{
 "cells": [
  {
   "cell_type": "code",
   "execution_count": 2,
   "outputs": [],
   "source": [
    "from gensim.models import Word2Vec\n",
    "from gensim.models.word2vec import LineSentence\n",
    "import gensim\n",
    "\n",
    "model = Word2Vec(\n",
    "    LineSentence(open('../get_data/output/result.txt', 'r', encoding='utf8')),\n",
    "    sg = 0,\n",
    "    vector_size = 100,\n",
    "    window = 3,\n",
    "    min_count = 1,\n",
    "    workers=8\n",
    ")\n",
    " \n",
    "# 词向量保存\n",
    "model.wv.save_word2vec_format('./model/data0.vector', binary=False)\n",
    " \n",
    "# 模型保存\n",
    "model.save('./model/test.model')"
   ],
   "metadata": {
    "collapsed": false,
    "pycharm": {
     "name": "#%%\n"
    }
   }
  },
  {
   "cell_type": "code",
   "execution_count": null,
   "outputs": [],
   "source": [],
   "metadata": {
    "collapsed": false,
    "pycharm": {
     "name": "#%%\n"
    }
   }
  }
 ],
 "metadata": {
  "kernelspec": {
   "display_name": "Python 3 (ipykernel)",
   "language": "python",
   "name": "python3"
  },
  "language_info": {
   "codemirror_mode": {
    "name": "ipython",
    "version": 3
   },
   "file_extension": ".py",
   "mimetype": "text/x-python",
   "name": "python",
   "nbconvert_exporter": "python",
   "pygments_lexer": "ipython3",
   "version": "3.7.7"
  }
 },
 "nbformat": 4,
 "nbformat_minor": 5
}