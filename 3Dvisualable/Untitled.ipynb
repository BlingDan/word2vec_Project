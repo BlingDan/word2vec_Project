{
 "cells": [
  {
   "cell_type": "code",
   "execution_count": null,
   "outputs": [],
   "source": [
    "import webbrowser\n",
    "import time\n",
    "import sys, os\n",
    "from gensim.models import Word2Vec\n",
    "import tensorflow as tf\n",
    "import numpy as np\n",
    "from tensorboard.plugins import projector\n",
    "\n",
    "def visualize(model, output_path):\n",
    "    meta_file = \"w2x_metadata.tsv\"\n",
    "    placeholder = np.zeros((len(model.wv.index_to_key), 100))\n",
    "\n",
    "    with open(os.path.join(output_path,meta_file), 'wb') as file_metadata:\n",
    "        for i, word in enumerate(model.wv.index_to_key):\n",
    "            placeholder[i] = model.wv[word]\n",
    "            # temporary solution for https://github.com/tensorflow/tensorflow/issues/9094\n",
    "            if word == '':\n",
    "                print(\"Emply Line, should replecaed by any thing else, or will cause a bug of tensorboard\")\n",
    "                file_metadata.write(\"{0}\".format('<Empty Line>').encode('utf-8') + b'\\n')\n",
    "            else:\n",
    "                file_metadata.write(\"{0}\".format(word).encode('utf-8') + b'\\n')\n",
    "\n",
    "    # define the model without training\n",
    "    tf.compat.v1.disable_eager_execution()\n",
    "    sess =  tf.compat.v1.InteractiveSession()\n",
    "\n",
    "    embedding = tf.Variable(placeholder, trainable = False, name = 'w2x_metadata')\n",
    "    #tf.global_variables_initializer().run()\n",
    "    tf.compat.v1.global_variables_initializer().run()\n",
    "    saver =tf.compat.v1.train.Saver()\n",
    "    #writer = tf.summary.create_file_writer(output_path, sess.graph)\n",
    "    writer = tf.compat.v1.summary.FileWriter(output_path, sess.graph)\n",
    "\n",
    "    # adding into projector\n",
    "    config = projector.ProjectorConfig()\n",
    "    embed = config.embeddings.add()\n",
    "    embed.tensor_name = 'w2x_metadata'\n",
    "    embed.metadata_path = meta_file\n",
    "    # 获取当前文件路径\n",
    "    current_path = os.path.abspath('__file__')\n",
    "    # 获取当前文件的父目录\n",
    "    father_path = os.path.abspath(os.path.dirname(current_path) + os.path.sep + \".\")\n",
    "    # config.ini文件路径,获取当前目录的父目录的父目录与congig.ini拼接\n",
    "    #config_file_path=os.path.join(os.path.abspath(os.path.dirname(current_path) + os.path.sep + \"..\"),'test')\n",
    "    # Specify the width and height of a single thumbnail.\n",
    "    projector.visualize_embeddings(writer, config)\n",
    "    saver.save(sess, os.path.join(output_path,'w2x_metadata.ckpt'))\n",
    "    # print('Run `tensorboard --logdir={0}` to run visualize result on tensorboard'.format(output_path))\n",
    "    print('Run `tensorboard --logdir='+father_path+\"\\\\visual` \"+'to run visualize result on tensorboard')\n",
    "    \n",
    "    \n",
    "if __name__ == \"__main__\":\n",
    "    model = Word2Vec.load(\"./model/test.model\")\n",
    "    visualize(model,\"./visual\")\n",
    "\n"
   ],
   "metadata": {
    "collapsed": false,
    "pycharm": {
     "name": "#%%\n",
     "is_executing": true
    }
   }
  },
  {
   "cell_type": "code",
   "execution_count": 3,
   "outputs": [],
   "source": [],
   "metadata": {
    "collapsed": false,
    "pycharm": {
     "name": "#%%\n"
    }
   }
  }
 ],
 "metadata": {
  "kernelspec": {
   "display_name": "Python 3 (ipykernel)",
   "language": "python",
   "name": "python3"
  },
  "language_info": {
   "codemirror_mode": {
    "name": "ipython",
    "version": 3
   },
   "file_extension": ".py",
   "mimetype": "text/x-python",
   "name": "python",
   "nbconvert_exporter": "python",
   "pygments_lexer": "ipython3",
   "version": "3.7.7"
  }
 },
 "nbformat": 4,
 "nbformat_minor": 5
}